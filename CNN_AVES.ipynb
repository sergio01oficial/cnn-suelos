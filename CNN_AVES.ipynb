{
 "cells": [
  {
   "cell_type": "markdown",
   "metadata": {},
   "source": [
    "<h2> CNN Imágenes de Aves </h2>"
   ]
  },
  {
   "cell_type": "code",
   "execution_count": 1,
   "metadata": {},
   "outputs": [
    {
     "name": "stderr",
     "output_type": "stream",
     "text": [
      "Using TensorFlow backend.\n"
     ]
    }
   ],
   "source": [
    "from keras.models import Sequential, Model\n",
    "from keras.layers import Conv2D, MaxPool2D, Dense, Flatten, Dropout, BatchNormalization, Input\n",
    "from keras.optimizers import Adam\n",
    "from keras.callbacks import TensorBoard, ModelCheckpoint\n",
    "from keras.utils import np_utils\n",
    "import os\n",
    "import numpy as np\n",
    "from keras.preprocessing import image\n",
    "from keras.applications.imagenet_utils import preprocess_input, decode_predictions\n",
    "from keras.preprocessing.image import ImageDataGenerator \n",
    "from sklearn.utils import shuffle\n",
    "from sklearn.model_selection import train_test_split\n",
    "import cv2\n",
    "import matplotlib.pyplot as plt\n",
    "import tensorflow as tf\n",
    "%matplotlib inline"
   ]
  },
  {
   "cell_type": "markdown",
   "metadata": {},
   "source": [
    "<h2>Configuración de parametros</h2>"
   ]
  },
  {
   "cell_type": "code",
   "execution_count": 2,
   "metadata": {},
   "outputs": [],
   "source": [
    "width_shape = 224\n",
    "height_shape = 224\n",
    "num_classes = 10\n",
    "batch_size = 32 "
   ]
  },
  {
   "cell_type": "markdown",
   "metadata": {},
   "source": [
    "<h2>Path de dataset</h2>"
   ]
  },
  {
   "cell_type": "code",
   "execution_count": 3,
   "metadata": {},
   "outputs": [],
   "source": [
    "train_data_dir = 'dataset/train'  \n",
    "validation_data_dir = 'dataset/valid'"
   ]
  },
  {
   "cell_type": "markdown",
   "metadata": {},
   "source": [
    "<h2>Preprocesamiento de imágenes </h2>"
   ]
  },
  {
   "cell_type": "code",
   "execution_count": 4,
   "metadata": {},
   "outputs": [
    {
     "name": "stdout",
     "output_type": "stream",
     "text": [
      "Found 1490 images belonging to 10 classes.\n",
      "Found 50 images belonging to 10 classes.\n"
     ]
    }
   ],
   "source": [
    "train_datagen = ImageDataGenerator(  \n",
    "    rotation_range=20,\n",
    "    zoom_range=0.2,\n",
    "    width_shift_range=0.1,\n",
    "    height_shift_range=0.1,\n",
    "    horizontal_flip=True,\n",
    "    vertical_flip=False,\n",
    "    preprocessing_function=preprocess_input)\n",
    "\n",
    "valid_datagen = ImageDataGenerator(    \n",
    "    rotation_range=20,\n",
    "    zoom_range=0.2,\n",
    "    width_shift_range=0.1,\n",
    "    height_shift_range=0.1,\n",
    "    horizontal_flip=True,\n",
    "    vertical_flip=False,\n",
    "    preprocessing_function=preprocess_input)\n",
    "\n",
    "train_generator = train_datagen.flow_from_directory(  \n",
    "    train_data_dir,\n",
    "    target_size=(width_shape, height_shape),\n",
    "    batch_size=batch_size,\n",
    "    #save_to_dir='',\n",
    "    class_mode='categorical')\n",
    "\n",
    "validation_generator = valid_datagen.flow_from_directory(  \n",
    "    validation_data_dir,\n",
    "    target_size=(width_shape, height_shape),\n",
    "    batch_size=batch_size,\n",
    "    #save_to_dir='',\n",
    "    class_mode='categorical')\n"
   ]
  },
  {
   "cell_type": "markdown",
   "metadata": {},
   "source": [
    "<h2>Entrenamiento modelo ResNet50</h2>"
   ]
  },
  {
   "cell_type": "code",
   "execution_count": 5,
   "metadata": {},
   "outputs": [
    {
     "name": "stderr",
     "output_type": "stream",
     "text": [
      "C:\\Users\\sanchez\\anaconda3\\envs\\APIDeep\\lib\\site-packages\\keras_applications\\resnet50.py:265: UserWarning: The output shape of `ResNet50(include_top=False)` has been changed since Keras 2.2.0.\n",
      "  warnings.warn('The output shape of `ResNet50(include_top=False)` '\n"
     ]
    },
    {
     "name": "stdout",
     "output_type": "stream",
     "text": [
      "Epoch 1/5\n",
      "46/46 [==============================] - 396s 9s/step - loss: 3.8048 - accuracy: 0.4616 - val_loss: 0.6162 - val_accuracy: 0.8438\n",
      "Epoch 2/5\n",
      "46/46 [==============================] - 390s 8s/step - loss: 0.8952 - accuracy: 0.7284 - val_loss: 0.0250 - val_accuracy: 1.0000\n",
      "Epoch 3/5\n",
      "46/46 [==============================] - 391s 9s/step - loss: 0.6098 - accuracy: 0.8292 - val_loss: 0.3056 - val_accuracy: 0.9375\n",
      "Epoch 4/5\n",
      "46/46 [==============================] - 383s 8s/step - loss: 0.4584 - accuracy: 0.8800 - val_loss: 6.0049e-04 - val_accuracy: 1.0000\n",
      "Epoch 5/5\n",
      "46/46 [==============================] - 388s 8s/step - loss: 0.3541 - accuracy: 0.9115 - val_loss: 5.4107e-05 - val_accuracy: 1.0000\n"
     ]
    }
   ],
   "source": [
    "from keras.applications.resnet50 import ResNet50\n",
    "\n",
    "nb_train_samples = 1490\n",
    "nb_validation_samples = 50\n",
    "\n",
    "\n",
    "image_input = Input(shape=(width_shape, height_shape, 3))\n",
    "\n",
    "m_Resnet50 = ResNet50(input_tensor=image_input, include_top=False,weights='imagenet')\n",
    "\n",
    "\n",
    "\n",
    "last_layer = m_Resnet50.layers[-1].output\n",
    "\n",
    "x= Flatten(name='flatten')(last_layer)\n",
    "x = Dense(128, activation='relu', name='fc1')(x)\n",
    "x=Dropout(0.3)(x)\n",
    "x = Dense(128, activation='relu', name='fc2')(x)\n",
    "x=Dropout(0.3)(x)\n",
    "out = Dense(num_classes, activation='softmax', name='output')(x)\n",
    "custom_ResNet50_model = Model(image_input, out)\n",
    "\n",
    "\n",
    "# freeze all the layers except the dense layers\n",
    "for layer in custom_ResNet50_model.layers[:-6]:\n",
    "    layer.trainable = False\n",
    "\n",
    "\n",
    "epochs = 5\n",
    "\n",
    "custom_ResNet50_model.compile(loss='categorical_crossentropy',optimizer='adadelta',metrics=['accuracy'])\n",
    "\n",
    "\n",
    "model_history = custom_ResNet50_model.fit_generator(  \n",
    "    train_generator,\n",
    "    epochs=epochs,\n",
    "    validation_data=validation_generator,\n",
    "    steps_per_epoch=nb_train_samples//batch_size,\n",
    "    validation_steps=nb_validation_samples//batch_size)\n",
    "\n"
   ]
  },
  {
   "cell_type": "markdown",
   "metadata": {},
   "source": [
    "<h2>Guardar modelo</h2>"
   ]
  },
  {
   "cell_type": "code",
   "execution_count": 6,
   "metadata": {},
   "outputs": [],
   "source": [
    "custom_ResNet50_model.save(\"models/model_ResNet50.h5\")"
   ]
  },
  {
   "cell_type": "markdown",
   "metadata": {},
   "source": [
    "<h2>Entrenamiento modelo VGG16</h2>"
   ]
  },
  {
   "cell_type": "code",
   "execution_count": 7,
   "metadata": {},
   "outputs": [
    {
     "name": "stdout",
     "output_type": "stream",
     "text": [
      "Epoch 1/5\n",
      "46/46 [==============================] - 616s 13s/step - loss: 0.3516 - accuracy: 0.9122 - val_loss: 0.0242 - val_accuracy: 1.0000\n",
      "Epoch 2/5\n",
      "46/46 [==============================] - 588s 13s/step - loss: 0.0581 - accuracy: 0.9829 - val_loss: 0.0690 - val_accuracy: 0.9444\n",
      "Epoch 3/5\n",
      "46/46 [==============================] - 593s 13s/step - loss: 0.0383 - accuracy: 0.9897 - val_loss: 0.0206 - val_accuracy: 1.0000\n",
      "Epoch 4/5\n",
      "46/46 [==============================] - 593s 13s/step - loss: 0.0165 - accuracy: 0.9986 - val_loss: 0.0012 - val_accuracy: 1.0000\n",
      "Epoch 5/5\n",
      "46/46 [==============================] - 600s 13s/step - loss: 0.0097 - accuracy: 0.9986 - val_loss: 0.0124 - val_accuracy: 1.0000\n"
     ]
    }
   ],
   "source": [
    "from keras.applications.vgg16 import VGG16\n",
    "\n",
    "nb_train_samples = 1490\n",
    "nb_validation_samples = 50\n",
    "\n",
    "\n",
    "image_input = Input(shape=(width_shape, height_shape, 3))\n",
    "\n",
    "m_VGG16 = VGG16(input_tensor=image_input, include_top=True,weights='imagenet')\n",
    "\n",
    "last_layer = m_VGG16.get_layer('fc2').output\n",
    "out = Dense(num_classes, activation='softmax', name='output')(last_layer)\n",
    "custom_VGG16_model = Model(image_input, out)\n",
    "\n",
    "for layer in custom_VGG16_model.layers[:-1]:\n",
    "\tlayer.trainable = False\n",
    "    \n",
    "\n",
    "epochs = 5\n",
    "\n",
    "custom_VGG16_model.compile(loss='categorical_crossentropy',optimizer='adadelta',metrics=['accuracy'])\n",
    "\n",
    "\n",
    "model_history = custom_VGG16_model.fit_generator(  \n",
    "    train_generator,\n",
    "    epochs=epochs,\n",
    "    validation_data=validation_generator,\n",
    "    steps_per_epoch=nb_train_samples//batch_size,\n",
    "    validation_steps=nb_validation_samples//batch_size)"
   ]
  },
  {
   "cell_type": "markdown",
   "metadata": {},
   "source": [
    "<h2>Guardar modelo</h2>"
   ]
  },
  {
   "cell_type": "code",
   "execution_count": 8,
   "metadata": {},
   "outputs": [],
   "source": [
    "custom_VGG16_model.save(\"models/model_VGG16.h5\")"
   ]
  },
  {
   "cell_type": "markdown",
   "metadata": {},
   "source": [
    "<h2>Entrenamiento modelo VGG19</h2>"
   ]
  },
  {
   "cell_type": "code",
   "execution_count": 9,
   "metadata": {},
   "outputs": [
    {
     "name": "stdout",
     "output_type": "stream",
     "text": [
      "Epoch 1/5\n",
      "46/46 [==============================] - 745s 16s/step - loss: 8.0520 - accuracy: 0.4671 - val_loss: 0.6503 - val_accuracy: 0.8438\n",
      "Epoch 2/5\n",
      "46/46 [==============================] - 737s 16s/step - loss: 1.6677 - accuracy: 0.6605 - val_loss: 0.0992 - val_accuracy: 1.0000\n",
      "Epoch 3/5\n",
      "46/46 [==============================] - 743s 16s/step - loss: 1.1169 - accuracy: 0.7373 - val_loss: 0.0912 - val_accuracy: 0.9688\n",
      "Epoch 4/5\n",
      "46/46 [==============================] - 734s 16s/step - loss: 0.7733 - accuracy: 0.8306 - val_loss: 0.6470 - val_accuracy: 0.8889\n",
      "Epoch 5/5\n",
      "46/46 [==============================] - 724s 16s/step - loss: 0.6738 - accuracy: 0.8464 - val_loss: 0.0089 - val_accuracy: 1.0000\n"
     ]
    }
   ],
   "source": [
    "from keras.applications.vgg19 import VGG19\n",
    "\n",
    "\n",
    "nb_train_samples = 1490\n",
    "nb_validation_samples = 50\n",
    "\n",
    "\n",
    "image_input = Input(shape=(width_shape, height_shape, 3))\n",
    "\n",
    "m_VGG19 = VGG19(input_tensor=image_input, include_top=False,weights='imagenet')\n",
    "\n",
    "\n",
    "\n",
    "last_layer = m_VGG19.layers[-1].output\n",
    "x= Flatten(name='flatten')(last_layer)\n",
    "x = Dense(128, activation='relu', name='fc1')(x)\n",
    "x=Dropout(0.3)(x)\n",
    "x = Dense(128, activation='relu', name='fc2')(x)\n",
    "x=Dropout(0.3)(x)\n",
    "out = Dense(num_classes, activation='softmax', name='output')(x)\n",
    "custom_VGG19_model = Model(image_input, out)\n",
    "\n",
    "\n",
    "# freeze all the layers except the dense layers\n",
    "for layer in custom_VGG19_model.layers[:-6]:\n",
    "\tlayer.trainable = False\n",
    "\n",
    "epochs = 5\n",
    "    \n",
    "custom_VGG19_model.compile(loss='categorical_crossentropy',optimizer='adadelta',metrics=['accuracy'])\n",
    "\n",
    "model_history = custom_VGG19_model.fit_generator(  \n",
    "    train_generator,\n",
    "    epochs=epochs,\n",
    "    validation_data=validation_generator,\n",
    "    steps_per_epoch=nb_train_samples//batch_size,\n",
    "    validation_steps=nb_validation_samples//batch_size)\n"
   ]
  },
  {
   "cell_type": "markdown",
   "metadata": {},
   "source": [
    "<h2>Guardar Modelo</h2>"
   ]
  },
  {
   "cell_type": "code",
   "execution_count": 10,
   "metadata": {},
   "outputs": [],
   "source": [
    "custom_VGG19_model.save(\"models/model_VGG19.h5\")"
   ]
  }
 ],
 "metadata": {
  "kernelspec": {
   "display_name": "APIDeep",
   "language": "python",
   "name": "apideep"
  },
  "language_info": {
   "codemirror_mode": {
    "name": "ipython",
    "version": 3
   },
   "file_extension": ".py",
   "mimetype": "text/x-python",
   "name": "python",
   "nbconvert_exporter": "python",
   "pygments_lexer": "ipython3",
   "version": "3.7.7"
  }
 },
 "nbformat": 4,
 "nbformat_minor": 4
}
